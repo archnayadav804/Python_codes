{
 "cells": [
  {
   "cell_type": "markdown",
   "id": "64080490",
   "metadata": {},
   "source": [
    "###  Write a Python program to sum all the items in a list."
   ]
  },
  {
   "cell_type": "code",
   "execution_count": 1,
   "id": "78def9c0",
   "metadata": {},
   "outputs": [
    {
     "name": "stdout",
     "output_type": "stream",
     "text": [
      "15\n"
     ]
    }
   ],
   "source": [
    "li=[1, 3, 4, 2 ,5 ]\n",
    "sumli=sum(li)\n",
    "print(sumli)"
   ]
  },
  {
   "cell_type": "markdown",
   "id": "31b72149",
   "metadata": {},
   "source": [
    "### 2. Write a Python program to get the largest number from a list"
   ]
  },
  {
   "cell_type": "code",
   "execution_count": 2,
   "id": "bbb6f8b8",
   "metadata": {},
   "outputs": [
    {
     "name": "stdout",
     "output_type": "stream",
     "text": [
      "6\n"
     ]
    }
   ],
   "source": [
    "li=[1,2,4,5,6,3,5]\n",
    "print(max(li))"
   ]
  },
  {
   "cell_type": "markdown",
   "id": "3254e663",
   "metadata": {},
   "source": [
    "* Write a Python program to count the number of strings where the string length\n",
    "is 2 or more and the first and last character are same from a given list of strings."
   ]
  },
  {
   "cell_type": "code",
   "execution_count": 3,
   "id": "f84c6d67",
   "metadata": {},
   "outputs": [
    {
     "name": "stdout",
     "output_type": "stream",
     "text": [
      "2\n"
     ]
    }
   ],
   "source": [
    "def match_words(words):\n",
    "    ctr = 0\n",
    "\n",
    "    for word in words:\n",
    "        if len(word) > 1 and word[0] == word[-1]:\n",
    "            ctr += 1\n",
    "    return ctr\n",
    "\n",
    "print(match_words(['abc', 'xyz', 'aba', '1221']))\n",
    "\n"
   ]
  },
  {
   "cell_type": "markdown",
   "id": "db776b7d",
   "metadata": {},
   "source": [
    "#### 4. Write a Python program to remove duplicates from a list."
   ]
  },
  {
   "cell_type": "code",
   "execution_count": 4,
   "id": "edf0edb8",
   "metadata": {},
   "outputs": [
    {
     "name": "stdout",
     "output_type": "stream",
     "text": [
      "3 3 3 "
     ]
    }
   ],
   "source": [
    " l=[1,3,5,3,6,3,7,3]\n",
    "l1=[]\n",
    "for i in l:\n",
    "    if i not in l1:\n",
    "            l1.append(i)\n",
    "    else:\n",
    "            print(i,end=\" \")\n",
    "\n",
    "   "
   ]
  },
  {
   "cell_type": "markdown",
   "id": "4b80d770",
   "metadata": {},
   "source": [
    "#### 5. Write a Python program to check a list is empty or not."
   ]
  },
  {
   "cell_type": "code",
   "execution_count": 5,
   "id": "0f39bdd1",
   "metadata": {},
   "outputs": [
    {
     "name": "stdout",
     "output_type": "stream",
     "text": [
      "True\n"
     ]
    }
   ],
   "source": [
    "def empty_list(li):\n",
    "    str1=li.split()\n",
    "\n",
    "    if len(str1)==0:\n",
    "        print(\"True\")\n",
    "    else:\n",
    "        print(str1)\n",
    "empty_list(\"\")"
   ]
  },
  {
   "cell_type": "markdown",
   "id": "6ca1ea76",
   "metadata": {},
   "source": [
    "###  6. Write a Python program to print a specified list after removing the 0th, 4th and 5th elements. \n"
   ]
  },
  {
   "cell_type": "code",
   "execution_count": 6,
   "id": "7d8f8379",
   "metadata": {},
   "outputs": [
    {
     "name": "stdout",
     "output_type": "stream",
     "text": [
      "['Green', 'White', 'Black']\n"
     ]
    }
   ],
   "source": [
    "color = ['Red', 'Green', 'White', 'Black', 'Pink', 'Yellow']\n",
    "color = [x for (i,x) in enumerate(color) if i not in (0,4,5)]\n",
    "print(color)\n"
   ]
  },
  {
   "cell_type": "markdown",
   "id": "8287f653",
   "metadata": {},
   "source": [
    "### 7. Write a Python program to print the numbers of a specified list after removing even numbers from it.\n"
   ]
  },
  {
   "cell_type": "code",
   "execution_count": 7,
   "id": "c70b7f6a",
   "metadata": {},
   "outputs": [
    {
     "ename": "NameError",
     "evalue": "name 'newlist' is not defined",
     "output_type": "error",
     "traceback": [
      "\u001b[1;31m---------------------------------------------------------------------------\u001b[0m",
      "\u001b[1;31mNameError\u001b[0m                                 Traceback (most recent call last)",
      "Input \u001b[1;32mIn [7]\u001b[0m, in \u001b[0;36m<module>\u001b[1;34m\u001b[0m\n\u001b[0;32m      1\u001b[0m num\u001b[38;5;241m=\u001b[39m[\u001b[38;5;241m7\u001b[39m,\u001b[38;5;241m3\u001b[39m,\u001b[38;5;241m2\u001b[39m,\u001b[38;5;241m5\u001b[39m,\u001b[38;5;241m6\u001b[39m,\u001b[38;5;241m2\u001b[39m,\u001b[38;5;241m6\u001b[39m,\u001b[38;5;241m55\u001b[39m,\u001b[38;5;241m45\u001b[39m,\u001b[38;5;241m64\u001b[39m,\u001b[38;5;241m34\u001b[39m]\n\u001b[0;32m      2\u001b[0m num\u001b[38;5;241m=\u001b[39m[x \u001b[38;5;28;01mfor\u001b[39;00m x \u001b[38;5;129;01min\u001b[39;00m num \u001b[38;5;28;01mif\u001b[39;00m x\u001b[38;5;241m%\u001b[39m\u001b[38;5;241m2\u001b[39m\u001b[38;5;241m!=\u001b[39m\u001b[38;5;241m0\u001b[39m]\n\u001b[1;32m----> 5\u001b[0m \u001b[38;5;28mprint\u001b[39m(\u001b[43mnewlist\u001b[49m)\n",
      "\u001b[1;31mNameError\u001b[0m: name 'newlist' is not defined"
     ]
    }
   ],
   "source": [
    "num=[7,3,2,5,6,2,6,55,45,64,34]\n",
    "num=[x for x in num if x%2!=0]\n",
    "\n",
    "\n",
    "print(newlist)"
   ]
  },
  {
   "cell_type": "markdown",
   "id": "790d907f",
   "metadata": {},
   "source": [
    "### 8. Write a Python program to convert a list of characters into a string."
   ]
  },
  {
   "cell_type": "code",
   "execution_count": null,
   "id": "aeb05f41",
   "metadata": {},
   "outputs": [],
   "source": [
    "s=['a','b','c','d','e','f','g']\n",
    "str1=''.join(s)\n",
    "print(str1)"
   ]
  },
  {
   "cell_type": "markdown",
   "id": "df6bfeed",
   "metadata": {},
   "source": [
    "### 9. Write a Python program to find the second largest number in a list."
   ]
  },
  {
   "cell_type": "code",
   "execution_count": null,
   "id": "35bb0c90",
   "metadata": {},
   "outputs": [],
   "source": [
    "lis=[10,39,39,40,40,30,50,20]\n",
    "li=list(set(lis))\n",
    "li.sort()\n",
    "print(li[-2])"
   ]
  },
  {
   "cell_type": "markdown",
   "id": "1a78f6ab",
   "metadata": {},
   "source": [
    "### 10. Write a Python program to get unique values from a list."
   ]
  },
  {
   "cell_type": "code",
   "execution_count": null,
   "id": "830de352",
   "metadata": {},
   "outputs": [],
   "source": [
    "li=[10,20,30,40,20,50,20]\n",
    "lis=list(set(li))\n",
    "print(lis)"
   ]
  },
  {
   "cell_type": "code",
   "execution_count": null,
   "id": "ae6a5729",
   "metadata": {},
   "outputs": [],
   "source": []
  }
 ],
 "metadata": {
  "kernelspec": {
   "display_name": "Python 3 (ipykernel)",
   "language": "python",
   "name": "python3"
  },
  "language_info": {
   "codemirror_mode": {
    "name": "ipython",
    "version": 3
   },
   "file_extension": ".py",
   "mimetype": "text/x-python",
   "name": "python",
   "nbconvert_exporter": "python",
   "pygments_lexer": "ipython3",
   "version": "3.9.7"
  }
 },
 "nbformat": 4,
 "nbformat_minor": 5
}

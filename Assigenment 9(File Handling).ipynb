{
 "cells": [
  {
   "cell_type": "markdown",
   "id": "c8078e7a",
   "metadata": {},
   "source": [
    "### 1. Write a Python program to read an entire text file. "
   ]
  },
  {
   "cell_type": "code",
   "execution_count": 21,
   "id": "5440bc7c",
   "metadata": {},
   "outputs": [
    {
     "name": "stdout",
     "output_type": "stream",
     "text": [
      "MY name is a archna yadav.And a data scientist.\n",
      "add txt\n",
      "add txt\n",
      "add txt\n",
      "add txt\n",
      "add txt\n",
      "add txt\n",
      "add txt \n",
      "add txt\n"
     ]
    }
   ],
   "source": [
    "def file_read(fname):\n",
    "    txt=open(fname)\n",
    "    print(txt.read())\n",
    "file_read(\"d:/demofile.txt\")"
   ]
  },
  {
   "cell_type": "markdown",
   "id": "a0d87481",
   "metadata": {},
   "source": [
    "### 2. Write a Python program to read first n lines of a file."
   ]
  },
  {
   "cell_type": "code",
   "execution_count": 29,
   "id": "20e03c7d",
   "metadata": {},
   "outputs": [
    {
     "name": "stdout",
     "output_type": "stream",
     "text": [
      "MY name is a archna yadav.And a data scientist.\n",
      "\n"
     ]
    }
   ],
   "source": [
    "\n",
    "f = open(\"d:/demofile.txt\",\"r\")\n",
    "for i in range(1):\n",
    "\tprint(f.readline())"
   ]
  },
  {
   "cell_type": "markdown",
   "id": "a5e2efdb",
   "metadata": {},
   "source": [
    "### 3. Write a Python program to append text to a file and display the text."
   ]
  },
  {
   "cell_type": "code",
   "execution_count": 24,
   "id": "5df6d5c1",
   "metadata": {},
   "outputs": [
    {
     "name": "stdout",
     "output_type": "stream",
     "text": [
      "MY name is a archna yadav.And a data scientist.\n",
      "add txt\n",
      "add txt\n",
      "add txt\n",
      "add txt\n",
      "add txt\n",
      "add txt\n",
      "add txt \n",
      "add txthellohellohellohellohellohellohellohellohellohello\n"
     ]
    }
   ],
   "source": [
    "fp=open(\"d:/demofile.txt\",\"a\")\n",
    "fp.write(\"hello\")\n",
    "fp=open(\"d:/demofile.txt\",\"r\")\n",
    "print(fp.read())\n",
    "\n"
   ]
  },
  {
   "cell_type": "markdown",
   "id": "bfc2fd82",
   "metadata": {},
   "source": [
    "### 4. Write a Python program to read last n lines of a file."
   ]
  },
  {
   "cell_type": "code",
   "execution_count": 34,
   "id": "17e2f9d2",
   "metadata": {},
   "outputs": [
    {
     "name": "stdout",
     "output_type": "stream",
     "text": [
      "\n",
      "\t\tThe number of lines:1\n",
      "MY name is a archna yadav.And a data scientist.\n",
      "\n"
     ]
    }
   ],
   "source": [
    "n=int(input(\"\\n\\t\\tThe number of lines:\"))\n",
    "f=open('d:/demofile.txt',\"r\")\n",
    "for i in range(n):\n",
    "    print(f.readline())\n",
    "    "
   ]
  },
  {
   "cell_type": "markdown",
   "id": "6f1c0904",
   "metadata": {},
   "source": [
    "### 5. Write a Python program to read a file line by line and store it into a list."
   ]
  },
  {
   "cell_type": "code",
   "execution_count": 46,
   "id": "d8d72877",
   "metadata": {},
   "outputs": [
    {
     "name": "stdout",
     "output_type": "stream",
     "text": [
      "['MY name is a archna yadav.And a data scientist.\\n', 'add txt\\n', 'add txt\\n', 'add txt\\n', 'add txt\\n', 'add txt\\n', 'add txt\\n', 'add txt \\n', 'add txthellohellohellohellohellohellohellohellohellohello']\n"
     ]
    }
   ],
   "source": [
    "def file_read(fname):\n",
    "        with open(fname) as f:\n",
    "                  \n",
    "                content_list = f.readlines()\n",
    "                print(content_list)\n",
    "\n",
    "file_read('d:/demofile.txt')\n"
   ]
  },
  {
   "cell_type": "markdown",
   "id": "34dc5cde",
   "metadata": {},
   "source": [
    "### 6. Write a Python program to read a file line by line store it into a variable.\n"
   ]
  },
  {
   "cell_type": "code",
   "execution_count": 49,
   "id": "0e0237be",
   "metadata": {},
   "outputs": [
    {
     "name": "stdout",
     "output_type": "stream",
     "text": [
      "['MY name is a archna yadav.And a data scientist.\\n', 'add txt\\n', 'add txt\\n', 'add txt\\n', 'add txt\\n', 'add txt\\n', 'add txt\\n', 'add txt \\n', 'add txthellohellohellohellohellohellohellohellohellohello']\n"
     ]
    }
   ],
   "source": [
    "def file_read(fname):\n",
    "    with open(fname) as f:\n",
    "        variable=f.readlines()\n",
    "        print(variable)\n",
    "file_read(\"d:/demofile.txt\")"
   ]
  },
  {
   "cell_type": "markdown",
   "id": "599078d1",
   "metadata": {},
   "source": [
    "### 8. Write a python program to find the longest words of a file.\n"
   ]
  },
  {
   "cell_type": "code",
   "execution_count": 54,
   "id": "aa227425",
   "metadata": {},
   "outputs": [
    {
     "name": "stdout",
     "output_type": "stream",
     "text": [
      "['txthellohellohellohellohellohellohellohellohellohello']\n"
     ]
    }
   ],
   "source": [
    "def longest_word(filename):\n",
    "    with open(filename, 'r') as infile:\n",
    "              words = infile.read().split()\n",
    "    max_len = len(max(words, key=len))\n",
    "    return [word for word in words if len(word) == max_len]\n",
    "\n",
    "print(longest_word('d:/demofile.txt'))\n",
    "\n",
    "\n",
    "    "
   ]
  },
  {
   "cell_type": "markdown",
   "id": "fd67c591",
   "metadata": {},
   "source": [
    "### 9. Write a Python program to count the number of lines in a text file. "
   ]
  },
  {
   "cell_type": "code",
   "execution_count": 56,
   "id": "f19cd8d8",
   "metadata": {},
   "outputs": [
    {
     "name": "stdout",
     "output_type": "stream",
     "text": [
      "9\n"
     ]
    }
   ],
   "source": [
    "with open(r\"d:/demofile.txt\",\"r\") as f:\n",
    "    lines=len(f.readlines())\n",
    "    print(lines)"
   ]
  },
  {
   "cell_type": "markdown",
   "id": "52a781e6",
   "metadata": {},
   "source": [
    "### 10. Write a Python program to count the frequency of words in a file. "
   ]
  },
  {
   "cell_type": "code",
   "execution_count": 57,
   "id": "9f628d6c",
   "metadata": {},
   "outputs": [
    {
     "name": "stdout",
     "output_type": "stream",
     "text": [
      "Number of words in the file : Counter({'add': 8, 'txt': 7, 'a': 2, 'MY': 1, 'name': 1, 'is': 1, 'archna': 1, 'yadav.And': 1, 'data': 1, 'scientist.': 1, 'txthellohellohellohellohellohellohellohellohellohello': 1})\n"
     ]
    }
   ],
   "source": [
    "from collections import Counter\n",
    "def word_count(fname):\n",
    "        with open(fname) as f:\n",
    "                return Counter(f.read().split())\n",
    "\n",
    "print(\"Number of words in the file :\",word_count(\"d:/demofile.txt\"))"
   ]
  },
  {
   "cell_type": "markdown",
   "id": "3a77d27e",
   "metadata": {},
   "source": [
    "### 11. Write a Python program to get the file size of a plain file."
   ]
  },
  {
   "cell_type": "code",
   "execution_count": 59,
   "id": "1b8cc9be",
   "metadata": {},
   "outputs": [
    {
     "name": "stdout",
     "output_type": "stream",
     "text": [
      "170\n"
     ]
    }
   ],
   "source": [
    "import os\n",
    "file_size=os.stat(\"d:/demofile.txt\")\n",
    "print(file_size.st_size)"
   ]
  },
  {
   "cell_type": "markdown",
   "id": "b975ff63",
   "metadata": {},
   "source": [
    "### 12. Write a Python program to write a list to a file."
   ]
  },
  {
   "cell_type": "code",
   "execution_count": 61,
   "id": "09fdbbb7",
   "metadata": {},
   "outputs": [
    {
     "name": "stdout",
     "output_type": "stream",
     "text": [
      "['hello my world']\n"
     ]
    }
   ],
   "source": [
    "with open(\"d:/demofile.txt\",\"w\") as f:\n",
    "    p=f.write(\"hello my world\")\n",
    "p=open(\"d:/demofile.txt\",\"r\")\n",
    "print(p.readlines())\n",
    "    \n",
    "\n"
   ]
  },
  {
   "cell_type": "markdown",
   "id": "34dcbcd5",
   "metadata": {},
   "source": [
    "### 13. Write a Python program to copy the contents of a file to another file."
   ]
  },
  {
   "cell_type": "markdown",
   "id": "d50cc510",
   "metadata": {},
   "source": [
    "# f1=open(\"d:/demofile.txt\",\"r\")\n",
    "f2=open(\"d:/abcfile.txt\",\"a\")\n",
    "for line in f1:\n",
    "        f3=f2.write(line.upper())\n",
    "        \n",
    "                                            "
   ]
  },
  {
   "cell_type": "markdown",
   "id": "d67df18f",
   "metadata": {},
   "source": [
    "### 14. Write a Python program to combine each line from first file with the corresponding line in second file. \n"
   ]
  },
  {
   "cell_type": "code",
   "execution_count": 78,
   "id": "46207538",
   "metadata": {},
   "outputs": [
    {
     "name": "stdout",
     "output_type": "stream",
     "text": [
      "hello my world apple\n",
      "\n"
     ]
    }
   ],
   "source": [
    "with open('d:/demofile.txt') as fh1, open('d:/abc.txt') as fh2:\n",
    "    for line1, line2 in zip(fh1, fh2):\n",
    "       \n",
    "        print(line1+ \" \" +line2)\n"
   ]
  },
  {
   "cell_type": "markdown",
   "id": "76a5ae5d",
   "metadata": {},
   "source": [
    "###  15. Write a Python program to read a random line from a file."
   ]
  },
  {
   "cell_type": "code",
   "execution_count": 83,
   "id": "677646a6",
   "metadata": {},
   "outputs": [
    {
     "name": "stdout",
     "output_type": "stream",
     "text": [
      "hello my world\n"
     ]
    }
   ],
   "source": [
    "import random\n",
    "def random_line(fname):\n",
    "    lines = open(fname).read().splitlines()\n",
    "    return random.choice(lines)\n",
    "print(random_line('d:/demofile.txt'))"
   ]
  },
  {
   "cell_type": "markdown",
   "id": "d0c32b68",
   "metadata": {},
   "source": [
    "### 16. Write a Python program to assess if a file is closed or not."
   ]
  },
  {
   "cell_type": "code",
   "execution_count": 84,
   "id": "d5113851",
   "metadata": {},
   "outputs": [
    {
     "name": "stdout",
     "output_type": "stream",
     "text": [
      "False\n",
      "True\n"
     ]
    }
   ],
   "source": [
    " f = open('d:/abc.txt','r')\n",
    "print(f.closed)\n",
    "f.close()\n",
    "print(f.closed)"
   ]
  },
  {
   "cell_type": "markdown",
   "id": "bdd06a92",
   "metadata": {},
   "source": [
    "### 17. Write a Python program to remove newline characters from a file. "
   ]
  },
  {
   "cell_type": "code",
   "execution_count": 85,
   "id": "4666d814",
   "metadata": {},
   "outputs": [
    {
     "name": "stdout",
     "output_type": "stream",
     "text": [
      "<generator object <genexpr> at 0x0000023ED30D14A0>\n"
     ]
    }
   ],
   "source": [
    "with open('d:/abc.txt',\"r\") as f:\n",
    "    w=f.readlines()\n",
    "    print(a.rstrip(\"\\n\") for a in w)"
   ]
  },
  {
   "cell_type": "markdown",
   "id": "eb14e4ed",
   "metadata": {},
   "source": [
    "### 18. Write a Python program that takes a text file as input and returns the number of words of a given text file. \n"
   ]
  },
  {
   "cell_type": "code",
   "execution_count": 91,
   "id": "fc081b5a",
   "metadata": {},
   "outputs": [
    {
     "name": "stdout",
     "output_type": "stream",
     "text": [
      "d:/abc.txt\n",
      "['apple\\n', 'mango\\n', '10']\n"
     ]
    }
   ],
   "source": [
    "txt=input(\"\")\n",
    "with open(txt,\"r\") as f:\n",
    "    w=f.readlines()\n",
    "    print(w)"
   ]
  },
  {
   "cell_type": "markdown",
   "id": "90049ee1",
   "metadata": {},
   "source": [
    "### 19. Write a Python program to extract characters from various text files and puts them into a list. \n"
   ]
  },
  {
   "cell_type": "code",
   "execution_count": 92,
   "id": "e4aa58de",
   "metadata": {},
   "outputs": [
    {
     "name": "stdout",
     "output_type": "stream",
     "text": [
      "['nums = [1, 2, 3, 4]\\nprint(nums)\\nname = \"archna\" \\nprint(name)\\nvar = [1, 2, 3, 4, 4]\\nprint(var)\\nnums.append(6)\\nprint(nums)\\nx = nums.pop()\\nprint(x)\\nprint(nums)\\nsal = {\"archna\":15}\\nprint(sal)\\nsal[\"akjd\"] = 26\\nprint(sal)\\ndel sal[\"akjd\"]\\nprint(sal)\\nfor item in sal.keys():\\n    print(sal)\\n    #set\\n    s = {1, 2, 3, 4, 3 }\\n    print(type(s))\\n    s.add(1)\\n    s.add(2)\\n    s.add(4)\\n    print(s)\\nl = []\\n    for x in range (0, 10):\\n        l.append(x)\\n        print(l)\\n        l = [x for in range (0, 19)]\\n        print(l)\\n        \\n']\n"
     ]
    }
   ],
   "source": [
    "import glob\n",
    "ch_list=[]\n",
    "file_list=glob.glob(\"*.py\")\n",
    "for file in file_list:\n",
    "\twith open(file,'r') as f:\n",
    "\t\tch_list.append(f.read())\n",
    "print(ch_list)"
   ]
  },
  {
   "cell_type": "markdown",
   "id": "4f49e483",
   "metadata": {},
   "source": []
  },
  {
   "cell_type": "code",
   "execution_count": 97,
   "id": "c854e42c",
   "metadata": {},
   "outputs": [],
   "source": [
    "import string\n",
    "def letters_file_line(n):\n",
    "    with open(\"d:/demofile.txt\", \"w\") as f:\n",
    "        alphabet = string.ascii_uppercase\n",
    "        letters = [alphabet[i:i + n] + \"\\n\" for i in range(0, len(alphabet), n)]\n",
    "        f.writelines(letters)\n",
    "letters_file_line(3)"
   ]
  },
  {
   "cell_type": "code",
   "execution_count": null,
   "id": "439f2e0c",
   "metadata": {},
   "outputs": [],
   "source": []
  }
 ],
 "metadata": {
  "kernelspec": {
   "display_name": "Python 3 (ipykernel)",
   "language": "python",
   "name": "python3"
  },
  "language_info": {
   "codemirror_mode": {
    "name": "ipython",
    "version": 3
   },
   "file_extension": ".py",
   "mimetype": "text/x-python",
   "name": "python",
   "nbconvert_exporter": "python",
   "pygments_lexer": "ipython3",
   "version": "3.9.7"
  }
 },
 "nbformat": 4,
 "nbformat_minor": 5
}
